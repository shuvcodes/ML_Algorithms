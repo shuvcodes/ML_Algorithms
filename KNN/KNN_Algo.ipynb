{
 "cells": [
  {
   "cell_type": "markdown",
   "id": "27e52448",
   "metadata": {},
   "source": [
    "# Writing KNN Algorithm form scratch"
   ]
  },
  {
   "cell_type": "code",
   "execution_count": 2,
   "id": "4a9b3f68",
   "metadata": {},
   "outputs": [],
   "source": [
    "import numpy as np\n",
    "from collections import Counter\n",
    "\n",
    "class Knn:\n",
    "\n",
    "    def __init__(self,k=5):\n",
    "        self.n_neighbors = k\n",
    "        self.X_train = None\n",
    "        self.y_train = None\n",
    "\n",
    "    def fit(self,X_train,y_train):\n",
    "        self.X_train = X_train\n",
    "        self.y_train = y_train\n",
    "\n",
    "    def predict(self,X_test):\n",
    "\n",
    "        y_pred = []\n",
    "\n",
    "        for i in X_test:\n",
    "            # calculate distance with each training point\n",
    "            distances = []\n",
    "            for j in self.X_train:\n",
    "                distances.append(self.calculate_distance(i,j))\n",
    "            n_neighbors = sorted(list(enumerate(distances)),key=lambda x:x[1])[0:self.n_neighbors]\n",
    "            label = self.majority_count(n_neighbors)\n",
    "            y_pred.append(label)\n",
    "        return np.array(y_pred)\n",
    "\n",
    "\n",
    "    def calculate_distance(self,point_A,point_B):\n",
    "        return np.linalg.norm(point_A - point_B)\n",
    "\n",
    "    def majority_count(self,neighbors):\n",
    "        votes = []\n",
    "        for i in neighbors:\n",
    "            votes.append(self.y_train[i[0]])\n",
    "        votes = Counter(votes)\n",
    "\n",
    "        return votes.most_common()[0][0]"
   ]
  },
  {
   "cell_type": "code",
   "execution_count": 3,
   "id": "c7cb1e81",
   "metadata": {},
   "outputs": [],
   "source": [
    "import numpy as np\n",
    "from collections import Counter\n",
    "\n",
    "def euclidean_distance(x1, x2):\n",
    "    return np.sqrt(np.sum((x1 - x2) ** 2))\n",
    "\n",
    "class KNN:\n",
    "    def __init__(self, k=3):\n",
    "        self.k = k\n",
    "\n",
    "    def fit(self, X, y):\n",
    "        self.X_train = np.array(X)\n",
    "        self.y_train = np.array(y)\n",
    "\n",
    "    def predict(self, X):\n",
    "        X = np.array(X)\n",
    "        predictions = [self._predict(x) for x in X]\n",
    "        return np.array(predictions)\n",
    "\n",
    "    def _predict(self, x):\n",
    "        distances = [euclidean_distance(x, x_train) for x_train in self.X_train]\n",
    "        k_indices = np.argsort(distances)[:self.k]\n",
    "        k_nearest_labels = self.y_train[k_indices]\n",
    "        most_common = Counter(k_nearest_labels).most_common(1)\n",
    "        return most_common[0][0]"
   ]
  }
 ],
 "metadata": {
  "kernelspec": {
   "display_name": ".venv",
   "language": "python",
   "name": "python3"
  },
  "language_info": {
   "codemirror_mode": {
    "name": "ipython",
    "version": 3
   },
   "file_extension": ".py",
   "mimetype": "text/x-python",
   "name": "python",
   "nbconvert_exporter": "python",
   "pygments_lexer": "ipython3",
   "version": "3.11.12"
  }
 },
 "nbformat": 4,
 "nbformat_minor": 5
}
