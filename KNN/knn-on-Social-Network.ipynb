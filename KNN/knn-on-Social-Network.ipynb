{
 "cells": [
  {
   "cell_type": "code",
   "execution_count": 3,
   "id": "2470db56",
   "metadata": {},
   "outputs": [],
   "source": [
    "\n",
    "from KNN_Algo import Knn \n"
   ]
  },
  {
   "cell_type": "code",
   "execution_count": 5,
   "id": "7798386d",
   "metadata": {},
   "outputs": [],
   "source": [
    "import pandas as pd\n",
    "import numpy as np\n",
    "from sklearn.preprocessing import LabelEncoder\n",
    "from sklearn.preprocessing import StandardScaler\n",
    "from sklearn.model_selection import train_test_split\n",
    "from sklearn.neighbors import KNeighborsClassifier\n",
    "from sklearn.metrics import accuracy_score\n"
   ]
  },
  {
   "cell_type": "code",
   "execution_count": 6,
   "id": "8dd85e02",
   "metadata": {},
   "outputs": [
    {
     "name": "stdout",
     "output_type": "stream",
     "text": [
      "0.9125\n"
     ]
    }
   ],
   "source": [
    "df = pd.read_csv(\"/Users/cr7./Documents/Codes & Project/ML_Algorithms/KNN/Social_Network_Ads.csv\")\n",
    "\n",
    "df=df.iloc[:,1:]\n",
    "encoder = LabelEncoder()\n",
    "df['Gender'] = encoder.fit_transform(df['Gender'])\n",
    "scaler=StandardScaler()\n",
    "X=df.iloc[:,0:3]\n",
    "y=df.iloc[:,-1]\n",
    "X=scaler.fit_transform(X)\n",
    "\n",
    "X_train,X_test,y_train,y_test=train_test_split(X,y,test_size=0.2,random_state=485) # assingn a random state for bench marking to get the same result as we run the code\n",
    "knn = KNeighborsClassifier(n_neighbors=5)\n",
    "knn.fit(X_train,y_train)\n",
    "y_pred=knn.predict(X_test)\n",
    "ac= accuracy_score(y_test,y_pred)\n",
    "print(ac)\n"
   ]
  },
  {
   "cell_type": "code",
   "execution_count": 10,
   "id": "b726b71f",
   "metadata": {},
   "outputs": [
    {
     "name": "stdout",
     "output_type": "stream",
     "text": [
      "0.9125\n"
     ]
    }
   ],
   "source": [
    "apna_knn = Knn(k=5)\n",
    "apna_knn.fit(X_train, y_train.reset_index(drop=True))\n",
    "y_pred1 = apna_knn.predict(X_test)\n",
    "print(accuracy_score(y_test, y_pred1))"
   ]
  }
 ],
 "metadata": {
  "kernelspec": {
   "display_name": ".venv",
   "language": "python",
   "name": "python3"
  },
  "language_info": {
   "codemirror_mode": {
    "name": "ipython",
    "version": 3
   },
   "file_extension": ".py",
   "mimetype": "text/x-python",
   "name": "python",
   "nbconvert_exporter": "python",
   "pygments_lexer": "ipython3",
   "version": "3.11.12"
  }
 },
 "nbformat": 4,
 "nbformat_minor": 5
}
